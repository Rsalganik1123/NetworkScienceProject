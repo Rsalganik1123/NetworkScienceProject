{
 "cells": [
  {
   "cell_type": "markdown",
   "metadata": {},
   "source": [
    "# env"
   ]
  },
  {
   "cell_type": "markdown",
   "metadata": {},
   "source": [
    "this notebook can only run at the same level as `src`"
   ]
  },
  {
   "cell_type": "code",
   "execution_count": null,
   "metadata": {},
   "outputs": [],
   "source": [
    "%load_ext autoreload\n",
    "%autoreload 2\n",
    "\n",
    "\n",
    "import os\n",
    "os.environ['CUDA_VISIBLE_DEVICES'] = '7'\n",
    "\n"
   ]
  },
  {
   "cell_type": "markdown",
   "metadata": {},
   "source": [
    "# load default config"
   ]
  },
  {
   "cell_type": "markdown",
   "metadata": {},
   "source": [
    "this is the config data the package take to build graph/model and do train/inference, can be modified"
   ]
  },
  {
   "cell_type": "code",
   "execution_count": null,
   "metadata": {},
   "outputs": [],
   "source": [
    "from src.configs.defaults import get_cfg_defaults\n",
    "cfg = get_cfg_defaults()\n",
    "print(cfg)"
   ]
  },
  {
   "cell_type": "markdown",
   "metadata": {},
   "source": [
    "# update config"
   ]
  },
  {
   "cell_type": "code",
   "execution_count": null,
   "metadata": {},
   "outputs": [],
   "source": [
    "# change data path \n",
    "cfg_data = cfg.DATASET\n",
    "cfg_data.DATA_PATH = 'ns_music_all_data_ming_20211124'\n",
    "# specify output path\n",
    "cfg.OUTPUT_PATH = '/home/NOBACKUP/mzhou3/599/test_run_8'\n"
   ]
  },
  {
   "cell_type": "markdown",
   "metadata": {},
   "source": [
    "model changes\n",
    "- use layer norm at projection and representation\n",
    "- change representation embedding size to be 64"
   ]
  },
  {
   "cell_type": "code",
   "execution_count": null,
   "metadata": {},
   "outputs": [],
   "source": [
    "cfg.MODEL.PINSAGE.PROJECTION.NORMALIZE= True\n",
    "cfg.MODEL.PINSAGE.REPRESENTATION_NORMALIZE= True\n",
    "cfg.MODEL.PINSAGE.HIDDEN_SIZE = 64\n",
    "cfg.MODEL.PINSAGE.PROJECTION.EMB = [['id', 64],\n",
    " ['album_id', 64],\n",
    " ['artist_id', 64],\n",
    " ['key', 16],\n",
    " ['tempo_5cat', 8],\n",
    " ['livness_5cat', 8],\n",
    " ['instrumentalness_3cat', 4],\n",
    " ['speechiness_10cat', 16],\n",
    " ['loudness_10cat', 16],\n",
    " ['acousticness_10cat', 16]]\n"
   ]
  },
  {
   "cell_type": "markdown",
   "metadata": {},
   "source": [
    "# train"
   ]
  },
  {
   "cell_type": "markdown",
   "metadata": {},
   "source": [
    "it should work"
   ]
  },
  {
   "cell_type": "code",
   "execution_count": null,
   "metadata": {},
   "outputs": [],
   "source": [
    "from src.train_net import train\n",
    "\n",
    "train(cfg)"
   ]
  },
  {
   "cell_type": "code",
   "execution_count": null,
   "metadata": {},
   "outputs": [],
   "source": []
  }
 ],
 "metadata": {
  "kernelspec": {
   "display_name": "Python [conda env:ming_env] *",
   "language": "python",
   "name": "conda-env-ming_env-py"
  },
  "language_info": {
   "codemirror_mode": {
    "name": "ipython",
    "version": 3
   },
   "file_extension": ".py",
   "mimetype": "text/x-python",
   "name": "python",
   "nbconvert_exporter": "python",
   "pygments_lexer": "ipython3",
   "version": "3.7.11"
  }
 },
 "nbformat": 4,
 "nbformat_minor": 4
}

{
 "cells": [
  {
   "cell_type": "code",
   "execution_count": 1,
   "metadata": {},
   "outputs": [],
   "source": [
    "%load_ext autoreload\n",
    "%autoreload 2\n",
    "\n",
    "\n",
    "import os\n",
    "os.environ['OMP_NUM_THREADS'] = '1'\n",
    "import numpy as np  "
   ]
  },
  {
   "cell_type": "markdown",
   "metadata": {},
   "source": [
    "# LOAD DATA"
   ]
  },
  {
   "cell_type": "markdown",
   "metadata": {},
   "source": [
    "download data from s3"
   ]
  },
  {
   "cell_type": "code",
   "execution_count": 1,
   "metadata": {},
   "outputs": [],
   "source": [
    "import pickle\n",
    "import numpy as np\n",
    "directory = \"/home/mila/r/rebecca.salganik/\"\n",
    "all_data = pickle.load(open(directory + 'ns_music_all_data_ming_20211124','rb'))\n",
    "all_features_cpu = pickle.load(open(directory + 'tracks_embedding_fullmodel_size64.p','rb'))"
   ]
  },
  {
   "cell_type": "code",
   "execution_count": 2,
   "metadata": {},
   "outputs": [],
   "source": [
    "df_playlist = all_data['df_playlist']"
   ]
  },
  {
   "cell_type": "code",
   "execution_count": 3,
   "metadata": {},
   "outputs": [],
   "source": [
    "\n",
    "val_users = all_data['val_user_ids']\n",
    "train_users = all_data['train_user_ids']\n",
    "df_playlist_val   = df_playlist[df_playlist['pid'].isin(val_users)]"
   ]
  },
  {
   "cell_type": "markdown",
   "metadata": {},
   "source": [
    "# R-Precision"
   ]
  },
  {
   "cell_type": "code",
   "execution_count": 9,
   "metadata": {},
   "outputs": [],
   "source": [
    "R =500"
   ]
  },
  {
   "cell_type": "code",
   "execution_count": null,
   "metadata": {
    "scrolled": true
   },
   "outputs": [],
   "source": [
    "result = []\n",
    "for idx, pid in enumerate(val_users):\n",
    "    \n",
    "    # get all track ids of the playlist  (SORTED BY POSITION !)\n",
    "    tracks = df_playlist_val[df_playlist_val['pid']==pid]\n",
    "    tracks = tracks.sort_values(by='pos')\n",
    "    all_tids = list(tracks['tid'])\n",
    "    \n",
    "    # keep the top MIN[10, len(tracks)/2 ] , predict the rest \n",
    "    known_num = min(10, len(all_tids) // 2 )   \n",
    "    \n",
    "    # compute average embedding to represent the playlist \n",
    "    emb = np.mean(all_features_cpu[all_tids[:known_num]], axis=0)\n",
    "\n",
    "    # dot product to compute scores of each song, sort \n",
    "    data = np.argsort(all_features_cpu.dot(emb))[::-1]    \n",
    "    \n",
    "    # compute R-precision \n",
    "    predicted_best = data[:R]\n",
    "    entries = all_tids[known_num:]\n",
    "    portion = [x for x in entries if x in predicted_best]\n",
    "    portion = len(portion)/len(entries)   \n",
    "    result.append([pid, len(all_tids), known_num,  portion])\n",
    "    \n",
    "    # \n",
    "    if idx % 100 == 0:\n",
    "        print(idx)\n",
    "        if idx >  0:\n",
    "            print(np.mean([x[-1] for x in result]))\n",
    "            \n",
    "#pickle.dump( result, open('validataion_rpres_result.p','wb'))"
   ]
  },
  {
   "cell_type": "markdown",
   "metadata": {},
   "source": [
    "## Refresh Clicks"
   ]
  },
  {
   "cell_type": "code",
   "execution_count": 53,
   "metadata": {},
   "outputs": [
    {
     "name": "stdout",
     "output_type": "stream",
     "text": [
      "0\n",
      "10\n",
      "7.181818181818182\n",
      "20\n",
      "15.761904761904763\n"
     ]
    },
    {
     "ename": "KeyboardInterrupt",
     "evalue": "",
     "output_type": "error",
     "traceback": [
      "\u001b[0;31m---------------------------------------------------------------------------\u001b[0m",
      "\u001b[0;31mKeyboardInterrupt\u001b[0m                         Traceback (most recent call last)",
      "\u001b[0;32m/tmp/ipykernel_8860/1775044.py\u001b[0m in \u001b[0;36m<module>\u001b[0;34m\u001b[0m\n\u001b[1;32m     15\u001b[0m \u001b[0;34m\u001b[0m\u001b[0m\n\u001b[1;32m     16\u001b[0m     \u001b[0;31m# dot product to compute scores of each song, sort\u001b[0m\u001b[0;34m\u001b[0m\u001b[0;34m\u001b[0m\u001b[0m\n\u001b[0;32m---> 17\u001b[0;31m     \u001b[0mall_relevant\u001b[0m \u001b[0;34m=\u001b[0m \u001b[0mall_features_cpu\u001b[0m\u001b[0;34m.\u001b[0m\u001b[0mdot\u001b[0m\u001b[0;34m(\u001b[0m\u001b[0memb\u001b[0m\u001b[0;34m)\u001b[0m\u001b[0;34m\u001b[0m\u001b[0;34m\u001b[0m\u001b[0m\n\u001b[0m\u001b[1;32m     18\u001b[0m \u001b[0;31m#     normed_relevant = all_relevant/np.linalg.norm(all_relevant)\u001b[0m\u001b[0;34m\u001b[0m\u001b[0;34m\u001b[0m\u001b[0m\n\u001b[1;32m     19\u001b[0m \u001b[0;31m#     top_relevance_vals = np.sort(all_relevant)[::-1] [:R]\u001b[0m\u001b[0;34m\u001b[0m\u001b[0;34m\u001b[0m\u001b[0m\n",
      "\u001b[0;31mKeyboardInterrupt\u001b[0m: "
     ]
    }
   ],
   "source": [
    "R = 500\n",
    "result = []\n",
    "for idx, pid in enumerate(val_users):\n",
    "    \n",
    "    # get all track ids of the playlist  (SORTED BY POSITION !)\n",
    "    tracks = df_playlist_val[df_playlist_val['pid']==pid]\n",
    "    tracks = tracks.sort_values(by='pos')\n",
    "    all_tids = list(tracks['tid'])\n",
    "    \n",
    "    # keep the top MIN[10, len(tracks)/2 ] , predict the rest \n",
    "    known_num = min(10, len(all_tids) // 2 )   \n",
    "    \n",
    "    # compute average embedding to represent the playlist \n",
    "    emb = np.mean(all_features_cpu[all_tids[:known_num]], axis=0)\n",
    "\n",
    "    # dot product to compute scores of each song, sort \n",
    "    all_relevant = all_features_cpu.dot(emb)\n",
    "#     normed_relevant = all_relevant/np.linalg.norm(all_relevant)\n",
    "#     top_relevance_vals = np.sort(all_relevant)[::-1] [:R]\n",
    "    indices = np.argsort(all_relevant)[::-1]\n",
    "\n",
    "    # find overlap \n",
    "    predicted_best_indices = indices[:R]\n",
    "    entries = all_tids[known_num:]\n",
    "    portion = [x for x in range(len(entries)) if entries[x] in predicted_best_indices]\n",
    "    \n",
    "    if len(portion) == 0: \n",
    "        clicks = 51 \n",
    "    else: \n",
    "        clicks = portion[0]-1//10\n",
    "\n",
    "    result.append([pid, len(all_tids), known_num,  clicks])\n",
    "    \n",
    "    if idx % 10 == 0:\n",
    "        print(idx)\n",
    "        if idx >  0:\n",
    "            print(np.mean([x[-1] for x in result]))"
   ]
  },
  {
   "cell_type": "markdown",
   "metadata": {},
   "source": [
    "## NDCG"
   ]
  },
  {
   "cell_type": "code",
   "execution_count": 43,
   "metadata": {},
   "outputs": [
    {
     "name": "stdout",
     "output_type": "stream",
     "text": [
      "0\n",
      "10\n",
      "0.03746878980317834\n",
      "20\n",
      "0.03421965873758824\n",
      "30\n",
      "0.03080625692826479\n",
      "40\n",
      "0.031176445745349127\n",
      "50\n",
      "0.0290667592411718\n",
      "60\n",
      "0.028140710949403486\n"
     ]
    },
    {
     "ename": "KeyboardInterrupt",
     "evalue": "",
     "output_type": "error",
     "traceback": [
      "\u001b[0;31m---------------------------------------------------------------------------\u001b[0m",
      "\u001b[0;31mKeyboardInterrupt\u001b[0m                         Traceback (most recent call last)",
      "\u001b[0;32m/tmp/ipykernel_8860/2484530448.py\u001b[0m in \u001b[0;36m<module>\u001b[0;34m\u001b[0m\n\u001b[1;32m     17\u001b[0m     \u001b[0mall_relevant\u001b[0m \u001b[0;34m=\u001b[0m \u001b[0mall_features_cpu\u001b[0m\u001b[0;34m.\u001b[0m\u001b[0mdot\u001b[0m\u001b[0;34m(\u001b[0m\u001b[0memb\u001b[0m\u001b[0;34m)\u001b[0m\u001b[0;34m\u001b[0m\u001b[0;34m\u001b[0m\u001b[0m\n\u001b[1;32m     18\u001b[0m     \u001b[0mnormed_relevant\u001b[0m \u001b[0;34m=\u001b[0m \u001b[0mall_relevant\u001b[0m\u001b[0;34m/\u001b[0m\u001b[0mnp\u001b[0m\u001b[0;34m.\u001b[0m\u001b[0mlinalg\u001b[0m\u001b[0;34m.\u001b[0m\u001b[0mnorm\u001b[0m\u001b[0;34m(\u001b[0m\u001b[0mall_relevant\u001b[0m\u001b[0;34m)\u001b[0m\u001b[0;34m\u001b[0m\u001b[0;34m\u001b[0m\u001b[0m\n\u001b[0;32m---> 19\u001b[0;31m     \u001b[0mtop_relevance_vals\u001b[0m \u001b[0;34m=\u001b[0m \u001b[0mnp\u001b[0m\u001b[0;34m.\u001b[0m\u001b[0msort\u001b[0m\u001b[0;34m(\u001b[0m\u001b[0mnormed_relevant\u001b[0m\u001b[0;34m)\u001b[0m\u001b[0;34m[\u001b[0m\u001b[0;34m:\u001b[0m\u001b[0;34m:\u001b[0m\u001b[0;34m-\u001b[0m\u001b[0;36m1\u001b[0m\u001b[0;34m]\u001b[0m \u001b[0;34m[\u001b[0m\u001b[0;34m:\u001b[0m\u001b[0mR\u001b[0m\u001b[0;34m]\u001b[0m\u001b[0;34m\u001b[0m\u001b[0;34m\u001b[0m\u001b[0m\n\u001b[0m\u001b[1;32m     20\u001b[0m     \u001b[0mindices\u001b[0m \u001b[0;34m=\u001b[0m \u001b[0mnp\u001b[0m\u001b[0;34m.\u001b[0m\u001b[0margsort\u001b[0m\u001b[0;34m(\u001b[0m\u001b[0mnormed_relevant\u001b[0m\u001b[0;34m)\u001b[0m\u001b[0;34m[\u001b[0m\u001b[0;34m:\u001b[0m\u001b[0;34m:\u001b[0m\u001b[0;34m-\u001b[0m\u001b[0;36m1\u001b[0m\u001b[0;34m]\u001b[0m\u001b[0;34m\u001b[0m\u001b[0;34m\u001b[0m\u001b[0m\n\u001b[1;32m     21\u001b[0m \u001b[0;34m\u001b[0m\u001b[0m\n",
      "\u001b[0;32m<__array_function__ internals>\u001b[0m in \u001b[0;36msort\u001b[0;34m(*args, **kwargs)\u001b[0m\n",
      "\u001b[0;32m~/.conda/envs/nsv3/lib/python3.9/site-packages/numpy/core/fromnumeric.py\u001b[0m in \u001b[0;36msort\u001b[0;34m(a, axis, kind, order)\u001b[0m\n\u001b[1;32m    996\u001b[0m     \u001b[0;32melse\u001b[0m\u001b[0;34m:\u001b[0m\u001b[0;34m\u001b[0m\u001b[0;34m\u001b[0m\u001b[0m\n\u001b[1;32m    997\u001b[0m         \u001b[0ma\u001b[0m \u001b[0;34m=\u001b[0m \u001b[0masanyarray\u001b[0m\u001b[0;34m(\u001b[0m\u001b[0ma\u001b[0m\u001b[0;34m)\u001b[0m\u001b[0;34m.\u001b[0m\u001b[0mcopy\u001b[0m\u001b[0;34m(\u001b[0m\u001b[0morder\u001b[0m\u001b[0;34m=\u001b[0m\u001b[0;34m\"K\"\u001b[0m\u001b[0;34m)\u001b[0m\u001b[0;34m\u001b[0m\u001b[0;34m\u001b[0m\u001b[0m\n\u001b[0;32m--> 998\u001b[0;31m     \u001b[0ma\u001b[0m\u001b[0;34m.\u001b[0m\u001b[0msort\u001b[0m\u001b[0;34m(\u001b[0m\u001b[0maxis\u001b[0m\u001b[0;34m=\u001b[0m\u001b[0maxis\u001b[0m\u001b[0;34m,\u001b[0m \u001b[0mkind\u001b[0m\u001b[0;34m=\u001b[0m\u001b[0mkind\u001b[0m\u001b[0;34m,\u001b[0m \u001b[0morder\u001b[0m\u001b[0;34m=\u001b[0m\u001b[0morder\u001b[0m\u001b[0;34m)\u001b[0m\u001b[0;34m\u001b[0m\u001b[0;34m\u001b[0m\u001b[0m\n\u001b[0m\u001b[1;32m    999\u001b[0m     \u001b[0;32mreturn\u001b[0m \u001b[0ma\u001b[0m\u001b[0;34m\u001b[0m\u001b[0;34m\u001b[0m\u001b[0m\n\u001b[1;32m   1000\u001b[0m \u001b[0;34m\u001b[0m\u001b[0m\n",
      "\u001b[0;31mKeyboardInterrupt\u001b[0m: "
     ]
    }
   ],
   "source": [
    "R = 500\n",
    "result = []\n",
    "for idx, pid in enumerate(val_users):\n",
    "    \n",
    "    # get all track ids of the playlist  (SORTED BY POSITION !)\n",
    "    tracks = df_playlist_val[df_playlist_val['pid']==pid]\n",
    "    tracks = tracks.sort_values(by='pos')\n",
    "    all_tids = list(tracks['tid'])\n",
    "    \n",
    "    # keep the top MIN[10, len(tracks)/2 ] , predict the rest \n",
    "    known_num = min(10, len(all_tids) // 2 )   \n",
    "    \n",
    "    # compute average embedding to represent the playlist \n",
    "    emb = np.mean(all_features_cpu[all_tids[:known_num]], axis=0)\n",
    "\n",
    "    # dot product to compute scores of each song, sort \n",
    "    all_relevant = all_features_cpu.dot(emb)\n",
    "    normed_relevant = all_relevant/np.linalg.norm(all_relevant)\n",
    "    top_relevance_vals = np.sort(normed_relevant)[::-1] [:R]\n",
    "    indices = np.argsort(normed_relevant)[::-1]\n",
    "\n",
    "    # find overlap \n",
    "    predicted_best_indices = indices[:R]\n",
    "    entries = all_tids[known_num:]\n",
    "    portion = [x for x in entries if x in predicted_best_indices]\n",
    "    \n",
    "    \n",
    "    DCG = top_relevance_vals[0] + np.sum(np.array([top_relevance_vals[i]/np.log2(i) for i in range(2, len(top_relevance_vals))]))\n",
    "\n",
    "    IDCG = 1 + np.sum(np.array([1/np.log2(i) for i in range(2,len(portion))]))\n",
    "    \n",
    "    NDCG = DCG/IDCG\n",
    "\n",
    "    result.append([pid, len(all_tids), known_num,  NDCG])\n",
    "    \n",
    "    if idx % 10 == 0:\n",
    "        print(idx)\n",
    "        if idx >  0:\n",
    "            print(np.mean([x[-1] for x in result]))"
   ]
  },
  {
   "cell_type": "code",
   "execution_count": 19,
   "metadata": {},
   "outputs": [
    {
     "name": "stdout",
     "output_type": "stream",
     "text": [
      "[10  6  5  3  2]\n"
     ]
    }
   ],
   "source": [
    "print(np.sort(np.array([10,2,3,5,6]))[::-1])"
   ]
  },
  {
   "cell_type": "code",
   "execution_count": 39,
   "metadata": {},
   "outputs": [
    {
     "data": {
      "text/plain": [
       "0.0007914771"
      ]
     },
     "execution_count": 39,
     "metadata": {},
     "output_type": "execute_result"
    }
   ],
   "source": [
    "emb = np.mean(all_features_cpu[all_tids[:known_num]], axis=0)\n",
    "all_relevant = all_features_cpu.dot(emb)\n",
    "normed_relevant = all_relevant/np.linalg.norm(all_relevant)\n",
    "top_relevance_vals = np.sort(normed_relevant)[::-1] [:R]\n",
    "np.max(top_relevance_vals[0])"
   ]
  },
  {
   "cell_type": "code",
   "execution_count": 19,
   "metadata": {},
   "outputs": [
    {
     "name": "stdout",
     "output_type": "stream",
     "text": [
      "4\n",
      "50.016388\n",
      "4\n"
     ]
    }
   ],
   "source": [
    "overlap_values = all_relevant[portion]\n",
    "print(len(overlap_values))\n",
    "print(overlap_values[0])\n",
    "print(len(portion))"
   ]
  },
  {
   "cell_type": "code",
   "execution_count": 40,
   "metadata": {},
   "outputs": [
    {
     "name": "stdout",
     "output_type": "stream",
     "text": [
      "9877.391590957583 0.05467726225629184 2.6309297535714578\n",
      "3754.3349751353617 0.020782486564708946\n"
     ]
    }
   ],
   "source": [
    "top = np.sum(np.array([np.log2(i) for i in range(2, len(top_relevance_vals))]))\n",
    "bottom = np.sum(top_relevance_vals[2:])\n",
    "DCG = top/bottom\n",
    "\n",
    "DCG2 = top_relevance_vals[0] + np.sum(np.array([top_relevance_vals[i]/np.log2(i) for i in range(2, len(top_relevance_vals))]))\n",
    "\n",
    "IDCG = 1 + np.sum(np.array([1/np.log2(i) for i in range(2,len(portion))]))\n",
    "\n",
    "print(DCG, DCG2, IDCG)\n",
    "\n",
    "print(DCG/IDCG, DCG2/IDCG)"
   ]
  },
  {
   "cell_type": "code",
   "execution_count": null,
   "metadata": {},
   "outputs": [],
   "source": []
  }
 ],
 "metadata": {
  "kernelspec": {
   "display_name": "nsv3",
   "language": "python",
   "name": "nsv3"
  },
  "language_info": {
   "codemirror_mode": {
    "name": "ipython",
    "version": 3
   },
   "file_extension": ".py",
   "mimetype": "text/x-python",
   "name": "python",
   "nbconvert_exporter": "python",
   "pygments_lexer": "ipython3",
   "version": "3.9.7"
  }
 },
 "nbformat": 4,
 "nbformat_minor": 4
}

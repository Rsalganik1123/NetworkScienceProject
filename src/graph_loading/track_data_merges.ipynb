{
 "cells": [
  {
   "cell_type": "code",
   "execution_count": 1,
   "metadata": {},
   "outputs": [],
   "source": [
    "import os \n",
    "import pickle\n",
    "import torch \n",
    "import pandas as pd\n",
    "import numpy as np \n",
    "import pickle5 as pickle"
   ]
  },
  {
   "cell_type": "markdown",
   "metadata": {},
   "source": [
    "# Load data "
   ]
  },
  {
   "cell_type": "markdown",
   "metadata": {},
   "source": [
    "these data can be downloaded directly from s3"
   ]
  },
  {
   "cell_type": "code",
   "execution_count": 2,
   "metadata": {},
   "outputs": [],
   "source": [
    "with open('features_v2/Train_Interaction_V1', \"rb\") as fh:\n",
    "    df_playlist = pickle.load(fh)"
   ]
  },
  {
   "cell_type": "code",
   "execution_count": 3,
   "metadata": {},
   "outputs": [],
   "source": [
    "with open('features_v2/Train_Playlist_V1', \"rb\") as fh:\n",
    "    df_playlist_info = pickle.load(fh)"
   ]
  },
  {
   "cell_type": "code",
   "execution_count": 4,
   "metadata": {},
   "outputs": [],
   "source": [
    "with open('features_v2/Categorical_Genre_Data_v2', \"rb\") as fh:\n",
    "    features = pickle.load(fh)\n",
    "features = features[~features['track_uri'].isnull()]"
   ]
  },
  {
   "cell_type": "code",
   "execution_count": 9,
   "metadata": {},
   "outputs": [],
   "source": [
    "album_data = pickle.load(open('album_metadata.p','rb'))"
   ]
  },
  {
   "cell_type": "markdown",
   "metadata": {},
   "source": [
    "create track_uri -> album_uri map (this is not on s3, you should load this on your own)"
   ]
  },
  {
   "cell_type": "code",
   "execution_count": 10,
   "metadata": {},
   "outputs": [],
   "source": [
    "df_tracks = pd.read_hdf('df_data/df_tracks.hdf')\n",
    "track_album_map = {t:a for a, t in zip(list(df_tracks['album_uri']), list(df_tracks['track_uri']))}"
   ]
  },
  {
   "cell_type": "markdown",
   "metadata": {},
   "source": [
    "# Process"
   ]
  },
  {
   "cell_type": "markdown",
   "metadata": {},
   "source": [
    "Reset track ids to be consecutive ids"
   ]
  },
  {
   "cell_type": "code",
   "execution_count": 11,
   "metadata": {},
   "outputs": [],
   "source": [
    "features = features.reset_index(drop=True)\n",
    "features = features.reset_index()\n",
    "features['tid'] = features['index']\n",
    "del features['index']"
   ]
  },
  {
   "cell_type": "code",
   "execution_count": 12,
   "metadata": {},
   "outputs": [],
   "source": [
    "df_playlist = df_playlist[['pid','track_uri']].merge(features[['track_uri','tid']], on='track_uri')"
   ]
  },
  {
   "cell_type": "code",
   "execution_count": 13,
   "metadata": {},
   "outputs": [],
   "source": [
    "del df_playlist['track_uri']"
   ]
  },
  {
   "cell_type": "markdown",
   "metadata": {},
   "source": [
    "isolate out 20 length genre feature"
   ]
  },
  {
   "cell_type": "code",
   "execution_count": 14,
   "metadata": {},
   "outputs": [
    {
     "name": "stderr",
     "output_type": "stream",
     "text": [
      "/home/NOBACKUP/mzhou3/ming_env/ming_env/lib/python3.7/site-packages/ipykernel_launcher.py:6: DeprecationWarning: `np.float` is a deprecated alias for the builtin `float`. To silence this warning, use `float` by itself. Doing this will not modify any behavior and is safe. If you specifically wanted the numpy scalar type, use `np.float64` here.\n",
      "Deprecated in NumPy 1.20; for more details and guidance: https://numpy.org/devdocs/release/1.20.0-notes.html#deprecations\n",
      "  \n"
     ]
    }
   ],
   "source": [
    "genre_features = features[['rock', 'classical', 'classic rock', 'hip hop',\n",
    "       'adult standards', 'rap', 'country rock', 'dance pop', 'mellow gold',\n",
    "       'pop rap', 'gangster rap', 'folk rock', 'soft rock', 'pop',\n",
    "       'album rock', 'alternative rock', 'pop rock', 'soul', 'latin',\n",
    "       'southern hip hop']].values\n",
    "genre_features= genre_features.astype(np.float)\n",
    "features = features[['track_uri', 'tid', 'danceability', 'energy', 'loudness', 'speechiness', 'acousticness', 'instrumentalness', 'liveness', 'valence', 'tempo', 'followers']]\n",
    "features['genre'] = list(genre_features)"
   ]
  },
  {
   "cell_type": "code",
   "execution_count": 15,
   "metadata": {},
   "outputs": [],
   "source": [
    "features = features.to_dict(orient='records')"
   ]
  },
  {
   "cell_type": "markdown",
   "metadata": {},
   "source": [
    "append album artwork and text feature, incase of absense, put 0 value vector"
   ]
  },
  {
   "cell_type": "code",
   "execution_count": 19,
   "metadata": {},
   "outputs": [],
   "source": [
    "album_data = {x['uri']: x for x in album_data} \n",
    "for entry in features:\n",
    "    \n",
    "    track_uri = entry['track_uri']\n",
    "    a  = album_data.get(track_album_map[track_uri])\n",
    "    if a is not None:\n",
    "        album_img_emb = a.get('img_emb',  np.zeros(2048, dtype=np.float32))\n",
    "        album_text_emb = a.get('text_emb',  np.zeros(512, dtype=np.float32))\n",
    "    else:\n",
    "        album_img_emb = np.zeros(2048, dtype=np.float32)\n",
    "        album_text_emb = np.zeros(512, dtype=np.float32)\n",
    "    entry['album_img_emb'] = album_img_emb\n",
    "    entry['album_text_emb'] = album_text_emb\n"
   ]
  },
  {
   "cell_type": "code",
   "execution_count": 20,
   "metadata": {},
   "outputs": [],
   "source": [
    "features = pd.DataFrame(features)"
   ]
  },
  {
   "cell_type": "code",
   "execution_count": 21,
   "metadata": {},
   "outputs": [
    {
     "data": {
      "text/plain": [
       "track_uri                        spotify:track:0UaMYEvWZi0ZqiDOoHU3YI\n",
       "tid                                                                 0\n",
       "danceability                                                        3\n",
       "energy                                                              3\n",
       "loudness                                                            2\n",
       "speechiness                                                         3\n",
       "acousticness                                                        1\n",
       "instrumentalness                                                    2\n",
       "liveness                                                            1\n",
       "valence                                                             3\n",
       "tempo                                                               2\n",
       "followers                                                   1780330.0\n",
       "genre               [0.0, 0.0, 0.0, 1.0, 0.0, 1.0, 0.0, 1.0, 0.0, ...\n",
       "album_img_emb       [0.20302932, 1.0507518, 1.4206188, 0.14776011,...\n",
       "album_text_emb      [-0.025304642, 0.043400515, -0.006640722, 0.00...\n",
       "Name: 0, dtype: object"
      ]
     },
     "execution_count": 21,
     "metadata": {},
     "output_type": "execute_result"
    }
   ],
   "source": [
    "features.iloc[0]"
   ]
  },
  {
   "cell_type": "markdown",
   "metadata": {},
   "source": [
    "save everything"
   ]
  },
  {
   "cell_type": "code",
   "execution_count": null,
   "metadata": {},
   "outputs": [],
   "source": [
    "all_data = {'df_playlist_info': df_playlist_info, 'df_playlist': df_playlist, 'df_track': features}"
   ]
  },
  {
   "cell_type": "code",
   "execution_count": null,
   "metadata": {},
   "outputs": [],
   "source": [
    "pickle.dump(all_data, open('ns_music_all_data.p','wb'))"
   ]
  }
 ],
 "metadata": {
  "kernelspec": {
   "display_name": "Python [conda env:ming_env] *",
   "language": "python",
   "name": "conda-env-ming_env-py"
  },
  "language_info": {
   "codemirror_mode": {
    "name": "ipython",
    "version": 3
   },
   "file_extension": ".py",
   "mimetype": "text/x-python",
   "name": "python",
   "nbconvert_exporter": "python",
   "pygments_lexer": "ipython3",
   "version": "3.7.11"
  }
 },
 "nbformat": 4,
 "nbformat_minor": 4
}
